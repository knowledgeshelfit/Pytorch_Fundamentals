{
  "cells": [
    {
      "cell_type": "markdown",
      "metadata": {
        "id": "Qg-1Ne4MnUBz"
      },
      "source": [
        "## 1# Pytorch Fundamentals"
      ]
    },
    {
      "cell_type": "code",
      "execution_count": 2,
      "metadata": {
        "id": "4QeYuNuonFKh"
      },
      "outputs": [],
      "source": [
        "import torch\n",
        "import pandas as pd\n",
        "import numpy as np\n",
        "import matplotlib.pyplot as plt"
      ]
    },
    {
      "cell_type": "code",
      "execution_count": 3,
      "metadata": {
        "colab": {
          "base_uri": "https://localhost:8080/"
        },
        "id": "-XKyCGrdny7j",
        "outputId": "8c7e51c8-73e9-4d20-b1b8-3096dd9216b4"
      },
      "outputs": [
        {
          "name": "stdout",
          "output_type": "stream",
          "text": [
            "2.0.1+cu118\n"
          ]
        }
      ],
      "source": [
        "print(torch.__version__)"
      ]
    },
    {
      "cell_type": "markdown",
      "metadata": {
        "id": "ktq4Kc411YgS"
      },
      "source": [
        "## Creating Tensors"
      ]
    },
    {
      "cell_type": "code",
      "execution_count": 5,
      "metadata": {
        "colab": {
          "base_uri": "https://localhost:8080/"
        },
        "id": "osZJrp3don68",
        "outputId": "c3533fc7-63e7-4099-a74e-0c225f2dfa2c"
      },
      "outputs": [
        {
          "name": "stdout",
          "output_type": "stream",
          "text": [
            "tensor(10)\n"
          ]
        }
      ],
      "source": [
        "## Scalers\n",
        "\n",
        "s1 = torch.tensor(10)\n",
        "print(s1)"
      ]
    },
    {
      "cell_type": "code",
      "execution_count": 8,
      "metadata": {
        "colab": {
          "base_uri": "https://localhost:8080/"
        },
        "id": "l5m-OvBC1jfb",
        "outputId": "b4990e73-f18d-4ae9-9715-867cfd72bd34"
      },
      "outputs": [
        {
          "data": {
            "text/plain": [
              "0"
            ]
          },
          "execution_count": 8,
          "metadata": {},
          "output_type": "execute_result"
        }
      ],
      "source": [
        "s1.ndim"
      ]
    },
    {
      "cell_type": "code",
      "execution_count": 9,
      "metadata": {
        "colab": {
          "base_uri": "https://localhost:8080/"
        },
        "id": "qFxQENjh2FGo",
        "outputId": "97dd81eb-4bd3-47ef-83c8-63b31920867b"
      },
      "outputs": [
        {
          "data": {
            "text/plain": [
              "10"
            ]
          },
          "execution_count": 9,
          "metadata": {},
          "output_type": "execute_result"
        }
      ],
      "source": [
        "## Get number back as Python int\n",
        "s1.item()"
      ]
    },
    {
      "cell_type": "code",
      "execution_count": 10,
      "metadata": {
        "colab": {
          "base_uri": "https://localhost:8080/"
        },
        "id": "fftgf0Ui2hT5",
        "outputId": "1601ffb1-2676-4e38-d818-bc52c3cd4020"
      },
      "outputs": [
        {
          "data": {
            "text/plain": [
              "tensor([5, 5])"
            ]
          },
          "execution_count": 10,
          "metadata": {},
          "output_type": "execute_result"
        }
      ],
      "source": [
        "## Vector\n",
        "\n",
        "v1 = torch.tensor([5, 5])\n",
        "v1"
      ]
    },
    {
      "cell_type": "code",
      "execution_count": 11,
      "metadata": {
        "colab": {
          "base_uri": "https://localhost:8080/"
        },
        "id": "0B_m0q3w228V",
        "outputId": "3db3357c-cbc9-4352-b0a5-769570b31dea"
      },
      "outputs": [
        {
          "data": {
            "text/plain": [
              "1"
            ]
          },
          "execution_count": 11,
          "metadata": {},
          "output_type": "execute_result"
        }
      ],
      "source": [
        "v1.ndim"
      ]
    },
    {
      "cell_type": "code",
      "execution_count": 13,
      "metadata": {
        "colab": {
          "base_uri": "https://localhost:8080/"
        },
        "id": "ijODxaAa24Wz",
        "outputId": "16cc1fc0-6f00-4a2f-e1d8-5d22242aa6f8"
      },
      "outputs": [
        {
          "data": {
            "text/plain": [
              "torch.Size([2])"
            ]
          },
          "execution_count": 13,
          "metadata": {},
          "output_type": "execute_result"
        }
      ],
      "source": [
        "v1.shape"
      ]
    },
    {
      "cell_type": "code",
      "execution_count": 24,
      "metadata": {
        "colab": {
          "base_uri": "https://localhost:8080/"
        },
        "id": "ZCrT1u713Hav",
        "outputId": "58f21223-e01f-49b5-f96b-3ea96230bc8c"
      },
      "outputs": [
        {
          "data": {
            "text/plain": [
              "tensor([[ 7,  8],\n",
              "        [ 9, 10]])"
            ]
          },
          "execution_count": 24,
          "metadata": {},
          "output_type": "execute_result"
        }
      ],
      "source": [
        "## Matrix\n",
        "M1 = torch.tensor([[7,8],\n",
        "                   [9,10]])\n",
        "\n",
        "M1"
      ]
    },
    {
      "cell_type": "code",
      "execution_count": 25,
      "metadata": {
        "colab": {
          "base_uri": "https://localhost:8080/"
        },
        "id": "XJQ7l6Cz3WOY",
        "outputId": "5dea1072-81f1-44cc-8531-ea4249b699b5"
      },
      "outputs": [
        {
          "data": {
            "text/plain": [
              "2"
            ]
          },
          "execution_count": 25,
          "metadata": {},
          "output_type": "execute_result"
        }
      ],
      "source": [
        "M1.ndim"
      ]
    },
    {
      "cell_type": "code",
      "execution_count": 26,
      "metadata": {
        "colab": {
          "base_uri": "https://localhost:8080/"
        },
        "id": "efDCj0uX3f7P",
        "outputId": "f2965c07-106f-424f-b64f-a149a5ef018c"
      },
      "outputs": [
        {
          "data": {
            "text/plain": [
              "tensor([ 9, 10])"
            ]
          },
          "execution_count": 26,
          "metadata": {},
          "output_type": "execute_result"
        }
      ],
      "source": [
        "M1[1]"
      ]
    },
    {
      "cell_type": "code",
      "execution_count": 27,
      "metadata": {
        "colab": {
          "base_uri": "https://localhost:8080/"
        },
        "id": "vMqz7bgn3k5B",
        "outputId": "33115477-f449-4dde-f2d7-6dc583be3f96"
      },
      "outputs": [
        {
          "data": {
            "text/plain": [
              "torch.Size([2, 2])"
            ]
          },
          "execution_count": 27,
          "metadata": {},
          "output_type": "execute_result"
        }
      ],
      "source": [
        "M1.shape"
      ]
    },
    {
      "cell_type": "code",
      "execution_count": 28,
      "metadata": {
        "colab": {
          "base_uri": "https://localhost:8080/"
        },
        "id": "ZRrw3ZWx3nrX",
        "outputId": "bd97e9f5-b409-4901-96cf-3dd29f2de1fc"
      },
      "outputs": [
        {
          "data": {
            "text/plain": [
              "tensor([[[1, 2, 3],\n",
              "         [3, 6, 9],\n",
              "         [2, 5, 8]]])"
            ]
          },
          "execution_count": 28,
          "metadata": {},
          "output_type": "execute_result"
        }
      ],
      "source": [
        "## Tensor\n",
        "T1 = torch.tensor([[[1,2,3],\n",
        "                    [3,6,9],\n",
        "                    [2,5,8]]])\n",
        "T1"
      ]
    },
    {
      "cell_type": "code",
      "execution_count": 29,
      "metadata": {
        "colab": {
          "base_uri": "https://localhost:8080/"
        },
        "id": "DBMLvxK44I7K",
        "outputId": "cc6735e0-7848-4c54-da17-9a6780f0f9f3"
      },
      "outputs": [
        {
          "data": {
            "text/plain": [
              "3"
            ]
          },
          "execution_count": 29,
          "metadata": {},
          "output_type": "execute_result"
        }
      ],
      "source": [
        "T1.ndim"
      ]
    },
    {
      "cell_type": "code",
      "execution_count": 30,
      "metadata": {
        "colab": {
          "base_uri": "https://localhost:8080/"
        },
        "id": "a4txnSZM4Knn",
        "outputId": "80f4de1f-79d3-4856-9c96-6b4efd8a1eba"
      },
      "outputs": [
        {
          "data": {
            "text/plain": [
              "torch.Size([1, 3, 3])"
            ]
          },
          "execution_count": 30,
          "metadata": {},
          "output_type": "execute_result"
        }
      ],
      "source": [
        "T1.shape"
      ]
    },
    {
      "cell_type": "code",
      "execution_count": 31,
      "metadata": {
        "colab": {
          "base_uri": "https://localhost:8080/"
        },
        "id": "y90x89M94QtH",
        "outputId": "cad2fc7f-c1d9-45b0-e569-aef9ee4448be"
      },
      "outputs": [
        {
          "data": {
            "text/plain": [
              "tensor([[1, 2, 3],\n",
              "        [3, 6, 9],\n",
              "        [2, 5, 8]])"
            ]
          },
          "execution_count": 31,
          "metadata": {},
          "output_type": "execute_result"
        }
      ],
      "source": [
        "T1[0]"
      ]
    },
    {
      "cell_type": "markdown",
      "metadata": {
        "id": "nGAZMELV5HL7"
      },
      "source": [
        "# 2# Creating Random Tensors in PyTorch\n",
        "\n",
        "\n"
      ]
    },
    {
      "cell_type": "code",
      "execution_count": 35,
      "metadata": {
        "colab": {
          "base_uri": "https://localhost:8080/"
        },
        "id": "MAgOgo8d5KJl",
        "outputId": "9cf5c1e1-835d-4f85-8f94-75df6f96d6ff"
      },
      "outputs": [
        {
          "data": {
            "text/plain": [
              "tensor([[0.5726, 0.4453, 0.0361, 0.1992],\n",
              "        [0.8599, 0.6979, 0.2107, 0.8545],\n",
              "        [0.4955, 0.6324, 0.3434, 0.7691]])"
            ]
          },
          "execution_count": 35,
          "metadata": {},
          "output_type": "execute_result"
        }
      ],
      "source": [
        "randTensor1 = torch.rand(3,4)\n",
        "randTensor1"
      ]
    },
    {
      "cell_type": "code",
      "execution_count": 36,
      "metadata": {
        "colab": {
          "base_uri": "https://localhost:8080/"
        },
        "id": "5vS6c0zU6bP-",
        "outputId": "dedc1763-c876-45c4-e2bd-e1fea98906c7"
      },
      "outputs": [
        {
          "data": {
            "text/plain": [
              "2"
            ]
          },
          "execution_count": 36,
          "metadata": {},
          "output_type": "execute_result"
        }
      ],
      "source": [
        "randTensor1.ndim"
      ]
    },
    {
      "cell_type": "code",
      "execution_count": 37,
      "metadata": {
        "colab": {
          "base_uri": "https://localhost:8080/"
        },
        "id": "C_ieRYxU6hux",
        "outputId": "44485f5f-c5a7-4ef1-b40a-227b51f1b8a2"
      },
      "outputs": [
        {
          "data": {
            "text/plain": [
              "tensor([[[0.7221, 0.4576, 0.6259],\n",
              "         [0.2624, 0.2610, 0.9265],\n",
              "         [0.9026, 0.2853, 0.2169]]])"
            ]
          },
          "execution_count": 37,
          "metadata": {},
          "output_type": "execute_result"
        }
      ],
      "source": [
        "randTensor2 = torch.rand(1,3,3)\n",
        "randTensor2"
      ]
    },
    {
      "cell_type": "code",
      "execution_count": 38,
      "metadata": {
        "colab": {
          "base_uri": "https://localhost:8080/"
        },
        "id": "5Y64c4db6ymn",
        "outputId": "1110afa7-0ec9-4152-903f-29c7c0c445d8"
      },
      "outputs": [
        {
          "data": {
            "text/plain": [
              "3"
            ]
          },
          "execution_count": 38,
          "metadata": {},
          "output_type": "execute_result"
        }
      ],
      "source": [
        "randTensor2.ndim"
      ]
    },
    {
      "cell_type": "code",
      "execution_count": 40,
      "metadata": {
        "colab": {
          "base_uri": "https://localhost:8080/"
        },
        "id": "8ZMNquwv61AM",
        "outputId": "adc8a4cd-13fe-41da-99e9-62da32825f7d"
      },
      "outputs": [
        {
          "data": {
            "text/plain": [
              "(torch.Size([512, 512, 3]), 3)"
            ]
          },
          "execution_count": 40,
          "metadata": {},
          "output_type": "execute_result"
        }
      ],
      "source": [
        "## Create a random tensor similar to image shape\n",
        "\n",
        "image_tensor = torch.rand(size=(512,512,3))\n",
        "image_tensor\n",
        "image_tensor.shape, image_tensor.ndim"
      ]
    },
    {
      "cell_type": "markdown",
      "metadata": {
        "id": "n_-VHA_B8VIk"
      },
      "source": [
        "# Creating Tensors With Zeros and Ones in PyTorch"
      ]
    },
    {
      "cell_type": "code",
      "execution_count": 41,
      "metadata": {
        "colab": {
          "base_uri": "https://localhost:8080/"
        },
        "id": "NRczSHKn7nMj",
        "outputId": "5953fc77-dd13-4c4b-ea6d-192139f224bf"
      },
      "outputs": [
        {
          "data": {
            "text/plain": [
              "tensor([[0., 0., 0., 0.],\n",
              "        [0., 0., 0., 0.],\n",
              "        [0., 0., 0., 0.]])"
            ]
          },
          "execution_count": 41,
          "metadata": {},
          "output_type": "execute_result"
        }
      ],
      "source": [
        "# Create a tensor of all zeros\n",
        "zeros = torch.zeros([3,4])\n",
        "zeros"
      ]
    },
    {
      "cell_type": "code",
      "execution_count": 42,
      "metadata": {
        "colab": {
          "base_uri": "https://localhost:8080/"
        },
        "id": "cvvXEp1N80aQ",
        "outputId": "4b61c0c2-3d59-419b-ed25-d8c110765e5a"
      },
      "outputs": [
        {
          "data": {
            "text/plain": [
              "tensor([[0., 0., 0., 0.],\n",
              "        [0., 0., 0., 0.],\n",
              "        [0., 0., 0., 0.]])"
            ]
          },
          "execution_count": 42,
          "metadata": {},
          "output_type": "execute_result"
        }
      ],
      "source": [
        "zeros * randTensor1"
      ]
    },
    {
      "cell_type": "code",
      "execution_count": 43,
      "metadata": {
        "colab": {
          "base_uri": "https://localhost:8080/"
        },
        "id": "SO3NYkg986NH",
        "outputId": "eece8a95-6be2-4acb-b046-f44e1c4656c8"
      },
      "outputs": [
        {
          "data": {
            "text/plain": [
              "tensor([[1., 1., 1., 1.],\n",
              "        [1., 1., 1., 1.],\n",
              "        [1., 1., 1., 1.]])"
            ]
          },
          "execution_count": 43,
          "metadata": {},
          "output_type": "execute_result"
        }
      ],
      "source": [
        "# Create a tensor of all Ones\n",
        "\n",
        "ones = torch.ones([3,4])\n",
        "ones"
      ]
    },
    {
      "cell_type": "code",
      "execution_count": 47,
      "metadata": {
        "colab": {
          "base_uri": "https://localhost:8080/"
        },
        "id": "nLWVLIvq_TtJ",
        "outputId": "edd5ace3-3498-4944-ed77-6a2030780bb2"
      },
      "outputs": [
        {
          "data": {
            "text/plain": [
              "torch.float32"
            ]
          },
          "execution_count": 47,
          "metadata": {},
          "output_type": "execute_result"
        }
      ],
      "source": [
        "## Default datatype of pytorch tensor\n",
        "ones.dtype"
      ]
    },
    {
      "cell_type": "code",
      "execution_count": 48,
      "metadata": {
        "colab": {
          "base_uri": "https://localhost:8080/"
        },
        "id": "iIGyWqp1_W7O",
        "outputId": "a648e0d6-6d74-4eeb-d816-4c2551502306"
      },
      "outputs": [
        {
          "data": {
            "text/plain": [
              "torch.float32"
            ]
          },
          "execution_count": 48,
          "metadata": {},
          "output_type": "execute_result"
        }
      ],
      "source": [
        "randTensor1.dtype"
      ]
    },
    {
      "cell_type": "code",
      "execution_count": null,
      "metadata": {
        "id": "bVJgkqJQ_ZtP"
      },
      "outputs": [],
      "source": []
    }
  ],
  "metadata": {
    "colab": {
      "provenance": []
    },
    "kernelspec": {
      "display_name": "Python 3",
      "name": "python3"
    },
    "language_info": {
      "name": "python"
    }
  },
  "nbformat": 4,
  "nbformat_minor": 0
}
