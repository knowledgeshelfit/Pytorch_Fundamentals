{
  "cells": [
    {
      "cell_type": "markdown",
      "metadata": {
        "id": "4FPPH_k5OhwV"
      },
      "source": [
        "# 1# Introduction to Tensors"
      ]
    },
    {
      "cell_type": "code",
      "execution_count": 1,
      "metadata": {
        "colab": {
          "base_uri": "https://localhost:8080/",
          "height": 35
        },
        "id": "B0cp0T8hTUND",
        "outputId": "a70eaf8c-71ef-4a72-d491-7cb2343902a4"
      },
      "outputs": [
        {
          "data": {
            "text/plain": [
              "'2.2.1+cu121'"
            ]
          },
          "execution_count": 1,
          "metadata": {},
          "output_type": "execute_result"
        }
      ],
      "source": [
        "import torch\n",
        "torch.__version__"
      ]
    },
    {
      "cell_type": "code",
      "execution_count": 2,
      "metadata": {
        "colab": {
          "base_uri": "https://localhost:8080/"
        },
        "id": "hjJibJlATe6Q",
        "outputId": "8277c27f-6dda-4949-8cfe-6e32c14bf51a"
      },
      "outputs": [
        {
          "name": "stdout",
          "output_type": "stream",
          "text": [
            "tensor(10)\n"
          ]
        }
      ],
      "source": [
        "#Scaler\n",
        "s1 = torch.tensor(10)\n",
        "print(s1)"
      ]
    },
    {
      "cell_type": "code",
      "execution_count": 3,
      "metadata": {
        "colab": {
          "base_uri": "https://localhost:8080/"
        },
        "id": "1WPG4vK6PFFX",
        "outputId": "78c640d9-cb18-4ae7-d02a-89f916610b3c"
      },
      "outputs": [
        {
          "name": "stdout",
          "output_type": "stream",
          "text": [
            "0\n",
            "10\n"
          ]
        }
      ],
      "source": [
        "print(s1.ndim)\n",
        "print(s1.item())"
      ]
    },
    {
      "cell_type": "code",
      "execution_count": 4,
      "metadata": {
        "colab": {
          "base_uri": "https://localhost:8080/"
        },
        "id": "acxil4_fPKki",
        "outputId": "304991d7-1a73-4512-8851-2076ff112b5d"
      },
      "outputs": [
        {
          "name": "stdout",
          "output_type": "stream",
          "text": [
            "tensor([10, 10])\n"
          ]
        }
      ],
      "source": [
        "#Vector\n",
        "vec1 = torch.tensor([10,10])\n",
        "print(vec1)"
      ]
    },
    {
      "cell_type": "code",
      "execution_count": 5,
      "metadata": {
        "colab": {
          "base_uri": "https://localhost:8080/"
        },
        "id": "XlkucqpjPlXt",
        "outputId": "53fafa2a-abeb-4956-ba37-23afa27b56d0"
      },
      "outputs": [
        {
          "name": "stdout",
          "output_type": "stream",
          "text": [
            "1\n",
            "torch.Size([2])\n",
            "torch.Size([2])\n"
          ]
        }
      ],
      "source": [
        "print(vec1.ndim)\n",
        "print(vec1.shape)\n",
        "print(vec1.size())"
      ]
    },
    {
      "cell_type": "code",
      "execution_count": 6,
      "metadata": {
        "colab": {
          "base_uri": "https://localhost:8080/"
        },
        "id": "I1cYcRaiPpeh",
        "outputId": "c80cf372-ca44-4bdb-a4bc-0f0514513558"
      },
      "outputs": [
        {
          "name": "stdout",
          "output_type": "stream",
          "text": [
            "tensor([[10, 20, 30],\n",
            "        [40, 50, 60],\n",
            "        [70, 80, 90]])\n"
          ]
        }
      ],
      "source": [
        "#MATRIX\n",
        "M1 = torch.tensor([[10,20,30],\n",
        "                   [40,50,60],\n",
        "                   [70,80,90]])\n",
        "print(M1)"
      ]
    },
    {
      "cell_type": "code",
      "execution_count": 7,
      "metadata": {
        "colab": {
          "base_uri": "https://localhost:8080/"
        },
        "id": "7hCodW-XQgr5",
        "outputId": "621462b3-fd4b-4f58-eeb3-388d6d65285a"
      },
      "outputs": [
        {
          "name": "stdout",
          "output_type": "stream",
          "text": [
            "2\n",
            "torch.Size([3, 3])\n",
            "torch.Size([3, 3])\n"
          ]
        }
      ],
      "source": [
        "print(M1.ndim)\n",
        "print(M1.shape)\n",
        "print(M1.size())"
      ]
    },
    {
      "cell_type": "code",
      "execution_count": 8,
      "metadata": {
        "colab": {
          "base_uri": "https://localhost:8080/"
        },
        "id": "G41Waz68QvIo",
        "outputId": "e65aa4a7-0d7b-4f4b-e730-7a74ed43cca5"
      },
      "outputs": [
        {
          "name": "stdout",
          "output_type": "stream",
          "text": [
            "tensor([10, 20, 30])\n",
            "tensor(20)\n"
          ]
        }
      ],
      "source": [
        "print(M1[0])\n",
        "print(M1[0,1])"
      ]
    },
    {
      "cell_type": "code",
      "execution_count": 9,
      "metadata": {
        "colab": {
          "base_uri": "https://localhost:8080/"
        },
        "id": "U2zVSu52RUsg",
        "outputId": "20a385b3-fe03-42db-b613-a2e78b800715"
      },
      "outputs": [
        {
          "name": "stdout",
          "output_type": "stream",
          "text": [
            "tensor([[[1, 2, 3],\n",
            "         [3, 6, 9],\n",
            "         [3, 5, 7]]])\n"
          ]
        }
      ],
      "source": [
        "#ndim TENSOR\n",
        "T1 = torch.tensor([[[1,2,3],\n",
        "                    [3,6,9],\n",
        "                    [3,5,7]]])\n",
        "\n",
        "print(T1)"
      ]
    },
    {
      "cell_type": "code",
      "execution_count": 10,
      "metadata": {
        "colab": {
          "base_uri": "https://localhost:8080/"
        },
        "id": "ZTubZBh8SGjr",
        "outputId": "75ff1ec3-e565-4cd8-9b45-11993417e267"
      },
      "outputs": [
        {
          "name": "stdout",
          "output_type": "stream",
          "text": [
            "3\n",
            "torch.Size([1, 3, 3])\n"
          ]
        }
      ],
      "source": [
        "print(T1.ndim)\n",
        "print(T1.shape)"
      ]
    },
    {
      "cell_type": "code",
      "execution_count": 11,
      "metadata": {
        "colab": {
          "base_uri": "https://localhost:8080/"
        },
        "id": "YkLQ_GxdSLZG",
        "outputId": "3a91b05c-270c-4781-c5e2-ea05f632b324"
      },
      "outputs": [
        {
          "name": "stdout",
          "output_type": "stream",
          "text": [
            "tensor([[1, 2, 3],\n",
            "        [3, 6, 9],\n",
            "        [3, 5, 7]])\n",
            "tensor([1, 2, 3])\n",
            "tensor(1)\n"
          ]
        }
      ],
      "source": [
        "print(T1[0])\n",
        "print(T1[0,0])\n",
        "print(T1[0,0,0])"
      ]
    },
    {
      "cell_type": "code",
      "execution_count": null,
      "metadata": {
        "id": "jY1y-oXhSZTa"
      },
      "outputs": [],
      "source": []
    }
  ],
  "metadata": {
    "colab": {
      "provenance": []
    },
    "kernelspec": {
      "display_name": "Python 3",
      "name": "python3"
    },
    "language_info": {
      "codemirror_mode": {
        "name": "ipython",
        "version": 3
      },
      "file_extension": ".py",
      "mimetype": "text/x-python",
      "name": "python",
      "nbconvert_exporter": "python",
      "pygments_lexer": "ipython3",
      "version": "3.10.13"
    }
  },
  "nbformat": 4,
  "nbformat_minor": 0
}
