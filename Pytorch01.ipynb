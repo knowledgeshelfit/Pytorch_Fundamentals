{
  "nbformat": 4,
  "nbformat_minor": 0,
  "metadata": {
    "colab": {
      "provenance": []
    },
    "kernelspec": {
      "name": "python3",
      "display_name": "Python 3"
    },
    "language_info": {
      "name": "python"
    }
  },
  "cells": [
    {
      "cell_type": "markdown",
      "source": [
        "# 1# Introduction to Tensors"
      ],
      "metadata": {
        "id": "4FPPH_k5OhwV"
      }
    },
    {
      "cell_type": "code",
      "source": [
        "import torch\n",
        "torch.__version__"
      ],
      "metadata": {
        "colab": {
          "base_uri": "https://localhost:8080/",
          "height": 35
        },
        "id": "B0cp0T8hTUND",
        "outputId": "a70eaf8c-71ef-4a72-d491-7cb2343902a4"
      },
      "execution_count": 2,
      "outputs": [
        {
          "output_type": "execute_result",
          "data": {
            "text/plain": [
              "'2.1.0+cu118'"
            ],
            "application/vnd.google.colaboratory.intrinsic+json": {
              "type": "string"
            }
          },
          "metadata": {},
          "execution_count": 2
        }
      ]
    },
    {
      "cell_type": "code",
      "source": [
        "#Scaler\n",
        "s1 = torch.tensor(10)\n",
        "print(s1)"
      ],
      "metadata": {
        "id": "hjJibJlATe6Q",
        "colab": {
          "base_uri": "https://localhost:8080/"
        },
        "outputId": "8277c27f-6dda-4949-8cfe-6e32c14bf51a"
      },
      "execution_count": 3,
      "outputs": [
        {
          "output_type": "stream",
          "name": "stdout",
          "text": [
            "tensor(10)\n"
          ]
        }
      ]
    },
    {
      "cell_type": "code",
      "source": [
        "print(s1.ndim)\n",
        "print(s1.item())"
      ],
      "metadata": {
        "colab": {
          "base_uri": "https://localhost:8080/"
        },
        "id": "1WPG4vK6PFFX",
        "outputId": "78c640d9-cb18-4ae7-d02a-89f916610b3c"
      },
      "execution_count": 5,
      "outputs": [
        {
          "output_type": "stream",
          "name": "stdout",
          "text": [
            "0\n",
            "10\n"
          ]
        }
      ]
    },
    {
      "cell_type": "code",
      "source": [
        "#Vector\n",
        "vec1 = torch.tensor([10,10])\n",
        "print(vec1)"
      ],
      "metadata": {
        "colab": {
          "base_uri": "https://localhost:8080/"
        },
        "id": "acxil4_fPKki",
        "outputId": "304991d7-1a73-4512-8851-2076ff112b5d"
      },
      "execution_count": 6,
      "outputs": [
        {
          "output_type": "stream",
          "name": "stdout",
          "text": [
            "tensor([10, 10])\n"
          ]
        }
      ]
    },
    {
      "cell_type": "code",
      "source": [
        "print(vec1.ndim)\n",
        "print(vec1.shape)\n",
        "print(vec1.size())"
      ],
      "metadata": {
        "colab": {
          "base_uri": "https://localhost:8080/"
        },
        "id": "XlkucqpjPlXt",
        "outputId": "53fafa2a-abeb-4956-ba37-23afa27b56d0"
      },
      "execution_count": 10,
      "outputs": [
        {
          "output_type": "stream",
          "name": "stdout",
          "text": [
            "1\n",
            "torch.Size([2])\n",
            "torch.Size([2])\n"
          ]
        }
      ]
    },
    {
      "cell_type": "code",
      "source": [
        "#MATRIX\n",
        "M1 = torch.tensor([[10,20,30],\n",
        "                   [40,50,60],\n",
        "                   [70,80,90]])\n",
        "print(M1)"
      ],
      "metadata": {
        "colab": {
          "base_uri": "https://localhost:8080/"
        },
        "id": "I1cYcRaiPpeh",
        "outputId": "c80cf372-ca44-4bdb-a4bc-0f0514513558"
      },
      "execution_count": 12,
      "outputs": [
        {
          "output_type": "stream",
          "name": "stdout",
          "text": [
            "tensor([[10, 20, 30],\n",
            "        [40, 50, 60],\n",
            "        [70, 80, 90]])\n"
          ]
        }
      ]
    },
    {
      "cell_type": "code",
      "source": [
        "print(M1.ndim)\n",
        "print(M1.shape)\n",
        "print(M1.size())"
      ],
      "metadata": {
        "colab": {
          "base_uri": "https://localhost:8080/"
        },
        "id": "7hCodW-XQgr5",
        "outputId": "621462b3-fd4b-4f58-eeb3-388d6d65285a"
      },
      "execution_count": 15,
      "outputs": [
        {
          "output_type": "stream",
          "name": "stdout",
          "text": [
            "2\n",
            "torch.Size([3, 3])\n",
            "torch.Size([3, 3])\n"
          ]
        }
      ]
    },
    {
      "cell_type": "code",
      "source": [
        "print(M1[0])\n",
        "print(M1[0,1])"
      ],
      "metadata": {
        "colab": {
          "base_uri": "https://localhost:8080/"
        },
        "id": "G41Waz68QvIo",
        "outputId": "e65aa4a7-0d7b-4f4b-e730-7a74ed43cca5"
      },
      "execution_count": 19,
      "outputs": [
        {
          "output_type": "stream",
          "name": "stdout",
          "text": [
            "tensor([10, 20, 30])\n",
            "tensor(20)\n"
          ]
        }
      ]
    },
    {
      "cell_type": "code",
      "source": [
        "#ndim TENSOR\n",
        "T1 = torch.tensor([[[1,2,3],\n",
        "                    [3,6,9],\n",
        "                    [3,5,7]]])\n",
        "\n",
        "print(T1)"
      ],
      "metadata": {
        "colab": {
          "base_uri": "https://localhost:8080/"
        },
        "id": "U2zVSu52RUsg",
        "outputId": "20a385b3-fe03-42db-b613-a2e78b800715"
      },
      "execution_count": 20,
      "outputs": [
        {
          "output_type": "stream",
          "name": "stdout",
          "text": [
            "tensor([[[1, 2, 3],\n",
            "         [3, 6, 9],\n",
            "         [3, 5, 7]]])\n"
          ]
        }
      ]
    },
    {
      "cell_type": "code",
      "source": [
        "print(T1.ndim)\n",
        "print(T1.shape)"
      ],
      "metadata": {
        "colab": {
          "base_uri": "https://localhost:8080/"
        },
        "id": "ZTubZBh8SGjr",
        "outputId": "75ff1ec3-e565-4cd8-9b45-11993417e267"
      },
      "execution_count": 22,
      "outputs": [
        {
          "output_type": "stream",
          "name": "stdout",
          "text": [
            "3\n",
            "torch.Size([1, 3, 3])\n"
          ]
        }
      ]
    },
    {
      "cell_type": "code",
      "source": [
        "print(T1[0])\n",
        "print(T1[0,0])\n",
        "print(T1[0,0,0])"
      ],
      "metadata": {
        "colab": {
          "base_uri": "https://localhost:8080/"
        },
        "id": "YkLQ_GxdSLZG",
        "outputId": "3a91b05c-270c-4781-c5e2-ea05f632b324"
      },
      "execution_count": 25,
      "outputs": [
        {
          "output_type": "stream",
          "name": "stdout",
          "text": [
            "tensor([[1, 2, 3],\n",
            "        [3, 6, 9],\n",
            "        [3, 5, 7]])\n",
            "tensor([1, 2, 3])\n",
            "tensor(1)\n"
          ]
        }
      ]
    },
    {
      "cell_type": "code",
      "source": [],
      "metadata": {
        "id": "jY1y-oXhSZTa"
      },
      "execution_count": null,
      "outputs": []
    }
  ]
}